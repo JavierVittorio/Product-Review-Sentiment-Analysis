{
 "cells": [
  {
   "cell_type": "code",
   "execution_count": 1,
   "id": "a4ec186c",
   "metadata": {},
   "outputs": [
    {
     "name": "stdout",
     "output_type": "stream",
     "text": [
      "                                              review  label\n",
      "0  Q kira besar ,ternyata mini🤭🤭 tapi cocok sic d...      1\n",
      "1  Koyok ngengek, yg dikirim minyak 1 mili iklan ...      0\n",
      "2  Saya kira awalnya minyak wangi Fress beneran, ...      1\n",
      "3  Baik, harum sekali, testyr kurang besar, murah...      2\n",
      "4  Produk sesuai dengan pesanan pengiriman tepat ...      2\n"
     ]
    }
   ],
   "source": [
    "import pandas as pd\n",
    "import re\n",
    "\n",
    "# Baca file Excel\n",
    "df = pd.read_excel('Dataset Text Web.xlsx')\n",
    "\n",
    "# Tampilkan contoh data\n",
    "print(df.head())\n"
   ]
  },
  {
   "cell_type": "code",
   "execution_count": 2,
   "id": "060fae67",
   "metadata": {},
   "outputs": [],
   "source": [
    "def clean_text(text):\n",
    "    if isinstance(text, str):\n",
    "        text = text.lower()  # ubah jadi huruf kecil\n",
    "        text = re.sub(r'http\\S+', '', text)  # hapus URL\n",
    "        text = re.sub(r'[^a-zA-Z0-9\\s]', ' ', text)  # hapus tanda baca & simbol\n",
    "        text = re.sub(r'\\d+', '', text)  # hapus angka\n",
    "        text = re.sub(r'\\s+', ' ', text).strip()  # rapikan spasi\n",
    "        return text\n",
    "    else:\n",
    "        return ''\n"
   ]
  }
 ],
 "metadata": {
  "kernelspec": {
   "display_name": "tf",
   "language": "python",
   "name": "python3"
  },
  "language_info": {
   "codemirror_mode": {
    "name": "ipython",
    "version": 3
   },
   "file_extension": ".py",
   "mimetype": "text/x-python",
   "name": "python",
   "nbconvert_exporter": "python",
   "pygments_lexer": "ipython3",
   "version": "3.10.18"
  }
 },
 "nbformat": 4,
 "nbformat_minor": 5
}
